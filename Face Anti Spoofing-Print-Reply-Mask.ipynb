{
 "cells": [
  {
   "cell_type": "code",
   "execution_count": null,
   "id": "fb49f4e9-ff83-4833-a9cf-cbc902fbbf4d",
   "metadata": {
    "tags": []
   },
   "outputs": [],
   "source": [
    "!pwd"
   ]
  },
  {
   "cell_type": "code",
   "execution_count": null,
   "id": "8038cadd-d507-4663-8d10-31f07cf5fb6e",
   "metadata": {
    "tags": []
   },
   "outputs": [],
   "source": [
    "import os\n",
    "import numpy as np\n",
    "import tensorflow as tf\n",
    "from tensorflow.keras.preprocessing.image import ImageDataGenerator\n",
    "from tensorflow.keras.models import Sequential\n",
    "from tensorflow.keras.layers import Conv2D, MaxPooling2D, Flatten, Dense\n",
    "import matplotlib.pyplot as plt\n",
    "from sklearn.metrics import confusion_matrix, roc_curve, auc"
   ]
  },
  {
   "cell_type": "code",
   "execution_count": null,
   "id": "240fac89-3c06-46a7-8a93-0d9fe55b2746",
   "metadata": {
    "tags": []
   },
   "outputs": [],
   "source": [
    "# Define constants\n",
    "IMAGE_WIDTH, IMAGE_HEIGHT = 150, 150\n",
    "BATCH_SIZE = 32\n",
    "EPOCHS = 5"
   ]
  },
  {
   "cell_type": "code",
   "execution_count": null,
   "id": "31053d9a-b685-434d-8e0f-245c6ab542af",
   "metadata": {
    "tags": []
   },
   "outputs": [],
   "source": [
    "\n",
    "# Set paths to your dataset directories\n",
    "TRAIN_DIR = './../dataset/image/set1/train'\n",
    "TEST_DIR = './../dataset/image/set1/test'"
   ]
  },
  {
   "cell_type": "code",
   "execution_count": null,
   "id": "22438474-305f-47a9-a746-60ef8f7d92c2",
   "metadata": {
    "tags": []
   },
   "outputs": [],
   "source": [
    "#Data preprocessing and augmentation\n",
    "train_datagen = ImageDataGenerator(rescale=1./255,\n",
    "                                   shear_range=0.2,\n",
    "                                   zoom_range=0.2,\n",
    "                                   horizontal_flip=True)\n",
    "\n",
    "test_datagen = ImageDataGenerator(rescale=1./255)\n",
    "\n",
    "train_generator = train_datagen.flow_from_directory(TRAIN_DIR,\n",
    "                                                    target_size=(IMAGE_WIDTH, IMAGE_HEIGHT),\n",
    "                                                    batch_size=BATCH_SIZE,\n",
    "                                                    class_mode='binary')\n",
    "\n",
    "test_generator = test_datagen.flow_from_directory(TEST_DIR,\n",
    "                                                  target_size=(IMAGE_WIDTH, IMAGE_HEIGHT),\n",
    "                                                  batch_size=BATCH_SIZE,\n",
    "                                                  class_mode='binary')"
   ]
  },
  {
   "cell_type": "code",
   "execution_count": null,
   "id": "86c684ec-0949-4b2a-8bf9-c778fa411fd8",
   "metadata": {
    "tags": []
   },
   "outputs": [],
   "source": [
    "# Build CNN model\n",
    "model = Sequential([\n",
    "    Conv2D(32, (3, 3), activation='relu', input_shape=(IMAGE_WIDTH, IMAGE_HEIGHT, 3)),\n",
    "    MaxPooling2D(pool_size=(2, 2)),\n",
    "    Conv2D(64, (3, 3), activation='relu'),\n",
    "    MaxPooling2D(pool_size=(2, 2)),\n",
    "    Conv2D(128, (3, 3), activation='relu'),\n",
    "    MaxPooling2D(pool_size=(2, 2)),\n",
    "    Flatten(),\n",
    "    Dense(128, activation='relu'),\n",
    "    Dense(1, activation='sigmoid')\n",
    "])\n",
    "# Compile the model\n",
    "model.compile(optimizer='adam',\n",
    "              loss='binary_crossentropy',\n",
    "              metrics=['accuracy'])"
   ]
  },
  {
   "cell_type": "code",
   "execution_count": null,
   "id": "c82932f0-00a0-41e9-976f-488abc607103",
   "metadata": {
    "tags": []
   },
   "outputs": [],
   "source": [
    "# Train the model\n",
    "model.fit(train_generator,\n",
    "          steps_per_epoch=train_generator.samples // BATCH_SIZE,\n",
    "          epochs=EPOCHS,\n",
    "          validation_data=test_generator,\n",
    "          validation_steps=test_generator.samples // BATCH_SIZE)\n",
    "\n",
    "# Evaluate the model\n",
    "loss, accuracy = model.evaluate(test_generator)\n",
    "print(\"Test Accuracy: {:.2f}%\".format(accuracy * 100))"
   ]
  },
  {
   "cell_type": "code",
   "execution_count": null,
   "id": "265c129e-e9f7-4bf0-b510-eb9793881b45",
   "metadata": {
    "tags": []
   },
   "outputs": [],
   "source": [
    "# Function to visualize images with their predicted labels\n",
    "def visualize_images(generator, model, num_images=5):\n",
    "    # Get a batch of images and labels\n",
    "    x_batch, y_batch = generator.next()\n",
    "    # Make predictions\n",
    "    predictions = model.predict(x_batch)\n",
    "    \n",
    "    # Plot the images with their predicted labels\n",
    "    plt.figure(figsize=(15, 10))\n",
    "    for i in range(num_images):\n",
    "        plt.subplot(1, num_images, i+1)\n",
    "        plt.imshow(x_batch[i])\n",
    "        plt.title('Predicted: {:.2f}\\nActual: {}'.format(predictions[i][0], y_batch[i]))\n",
    "        plt.axis('off')\n",
    "    plt.show()\n",
    "\n",
    "# Visualize training images and predictions\n",
    "print(\"Training Images and Predictions:\")\n",
    "visualize_images(train_generator, model)\n",
    "\n",
    "# Visualize test images and predictions\n",
    "print(\"Test Images and Predictions:\")\n",
    "visualize_images(test_generator, model)"
   ]
  },
  {
   "cell_type": "code",
   "execution_count": null,
   "id": "22dd8a30-f5ba-4d00-a4b4-ce80874e8158",
   "metadata": {
    "tags": []
   },
   "outputs": [],
   "source": [
    "# Generate predictions for the test set\n",
    "y_pred = model.predict(test_generator)\n",
    "y_pred_classes = np.round(y_pred)\n",
    "\n",
    "# Convert actual labels to binary (0 for real, 1 for fake)\n",
    "y_true = test_generator.classes\n",
    "\n",
    "# Calculate confusion matrix\n",
    "cm = confusion_matrix(y_true, y_pred_classes)\n",
    "\n",
    "# Plot confusion matrix\n",
    "plt.figure(figsize=(8, 6))\n",
    "plt.imshow(cm, interpolation='nearest', cmap=plt.cm.Blues)\n",
    "plt.title('Confusion Matrix')\n",
    "plt.colorbar()\n",
    "tick_marks = np.arange(2)\n",
    "plt.xticks(tick_marks, ['Real', 'Fake'])\n",
    "plt.yticks(tick_marks, ['Real', 'Fake'])\n",
    "\n",
    "# Add labels to each cell\n",
    "thresh = cm.max() / 2.\n",
    "for i in range(cm.shape[0]):\n",
    "    for j in range(cm.shape[1]):\n",
    "        plt.text(j, i, format(cm[i, j], 'd'),\n",
    "                 ha=\"center\", va=\"center\",\n",
    "                 color=\"white\" if cm[i, j] > thresh else \"black\")\n",
    "\n",
    "plt.ylabel('True label')\n",
    "plt.xlabel('Predicted label')\n",
    "plt.tight_layout()\n",
    "plt.show()"
   ]
  },
  {
   "cell_type": "code",
   "execution_count": null,
   "id": "6a1e63c3-5edb-429d-8e6f-06e403405bdd",
   "metadata": {
    "tags": []
   },
   "outputs": [],
   "source": [
    "fpr, tpr, thresholds = roc_curve(y_true, y_pred.ravel())\n",
    "roc_auc = auc(fpr, tpr)\n",
    "\n",
    "# Plot ROC curve\n",
    "plt.figure(figsize=(8, 6))\n",
    "plt.plot(fpr, tpr, color='blue', lw=2, label='ROC curve (AUC = %0.2f)' % roc_auc)\n",
    "plt.plot([0, 1], [0, 1], color='red', lw=2, linestyle='--', label='Random Guess')\n",
    "plt.xlim([0.0, 1.0])\n",
    "plt.ylim([0.0, 1.05])\n",
    "plt.xlabel('False Positive Rate (FPR)')\n",
    "plt.ylabel('True Positive Rate (TPR)')\n",
    "plt.title('Receiver Operating Characteristic (ROC) Curve')\n",
    "plt.legend(loc='lower right')\n",
    "plt.show()"
   ]
  },
  {
   "cell_type": "code",
   "execution_count": null,
   "id": "0e7732e3-d2ad-45f7-9aee-de5088c0430d",
   "metadata": {
    "tags": []
   },
   "outputs": [],
   "source": [
    "# Load and preprocess the new test data\n",
    "new_test_data_dir = './../dataset/image/set2/test'\n",
    "\n",
    "new_test_datagen = ImageDataGenerator(rescale=1./255)\n",
    "\n",
    "new_test_generator = new_test_datagen.flow_from_directory(\n",
    "    new_test_data_dir,\n",
    "    target_size=(IMAGE_WIDTH, IMAGE_HEIGHT),\n",
    "    batch_size=BATCH_SIZE,\n",
    "    class_mode='binary',\n",
    "    shuffle=False  # Important: Do not shuffle the data\n",
    ")\n",
    "\n",
    "# Generate predictions for the new test data\n",
    "y_pred_new = model.predict(new_test_generator)\n",
    "\n",
    "# Convert actual labels to binary (0 for real, 1 for fake)\n",
    "y_true_new = new_test_generator.classes\n",
    "\n",
    "# Calculate confusion matrix\n",
    "cm_new = confusion_matrix(y_true_new, np.round(y_pred_new))\n",
    "\n",
    "# Plot confusion matrix\n",
    "plt.figure(figsize=(8, 6))\n",
    "plt.imshow(cm_new, interpolation='nearest', cmap=plt.cm.Blues)\n",
    "plt.title('Confusion Matrix for New Test Data')\n",
    "plt.colorbar()\n",
    "tick_marks = np.arange(2)\n",
    "plt.xticks(tick_marks, ['Real', 'Fake'])\n",
    "plt.yticks(tick_marks, ['Real', 'Fake'])\n",
    "thresh = cm_new.max() / 2.\n",
    "for i in range(cm_new.shape[0]):\n",
    "    for j in range(cm_new.shape[1]):\n",
    "        plt.text(j, i, format(cm_new[i, j], 'd'),\n",
    "                 ha=\"center\", va=\"center\",\n",
    "                 color=\"white\" if cm_new[i, j] > thresh else \"black\")\n",
    "plt.ylabel('True label')\n",
    "plt.xlabel('Predicted label')\n",
    "plt.tight_layout()\n",
    "plt.show()\n",
    "\n",
    "# Calculate ROC curve for new test data\n",
    "fpr_new, tpr_new, thresholds_new = roc_curve(y_true_new, y_pred_new.ravel())\n",
    "roc_auc_new = auc(fpr_new, tpr_new)\n",
    "\n",
    "# Plot ROC curve for new test data\n",
    "plt.figure(figsize=(8, 6))\n",
    "plt.plot(fpr_new, tpr_new, color='blue', lw=2, label='ROC curve (AUC = %0.2f)' % roc_auc_new)\n",
    "plt.plot([0, 1], [0, 1], color='red', lw=2, linestyle='--', label='Random Guess')\n",
    "plt.xlim([0.0, 1.0])\n",
    "plt.ylim([0.0, 1.05])\n",
    "plt.xlabel('False Positive Rate (FPR)')\n",
    "plt.ylabel('True Positive Rate (TPR)')\n",
    "plt.title('Receiver Operating Characteristic (ROC) Curve for New Test Data')\n",
    "plt.legend(loc='lower right')\n",
    "plt.show()\n"
   ]
  },
  {
   "cell_type": "code",
   "execution_count": null,
   "id": "1e304b2d-f294-43bc-9e2a-399403394826",
   "metadata": {
    "tags": []
   },
   "outputs": [],
   "source": [
    "test_generator_2 = test_datagen.flow_from_directory(\"./../dataset/image/set2/test\",\n",
    "                                                  target_size=(IMAGE_WIDTH, IMAGE_HEIGHT),\n",
    "                                                  batch_size=BATCH_SIZE,\n",
    "                                                  class_mode='binary')\n",
    "\n",
    "# Visualize training images and predictions\n",
    "print(\"Training Images and Predictions:\")\n",
    "visualize_images(test_generator_2, model)\n",
    "\n",
    "# Visualize test images and predictions\n",
    "print(\"Test Images and Predictions:\")\n",
    "visualize_images(test_generator_2, model)"
   ]
  }
 ],
 "metadata": {
  "kernelspec": {
   "display_name": "bootcamp2022",
   "language": "python",
   "name": "bootcamp2022"
  },
  "language_info": {
   "codemirror_mode": {
    "name": "ipython",
    "version": 3
   },
   "file_extension": ".py",
   "mimetype": "text/x-python",
   "name": "python",
   "nbconvert_exporter": "python",
   "pygments_lexer": "ipython3",
   "version": "3.8.10"
  }
 },
 "nbformat": 4,
 "nbformat_minor": 5
}
